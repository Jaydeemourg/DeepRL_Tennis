{
 "cells": [
  {
   "cell_type": "markdown",
   "metadata": {},
   "source": [
    "# Collaboration and Competition\n",
    "\n",
    "---\n",
    "This notebook uses the Unity ML-Agents environment for the third project of the [Deep Reinforcement Learning Nanodegree](https://www.udacity.com/course/deep-reinforcement-learning-nanodegree--nd893) program.\n",
    "\n",
    "\n",
    "### 1. Import necessary packages\n",
    "\n",
    "We begin by importing the necessary packages.  If the code cell below returns an error, please revisit the project instructions to double-check that you have installed [Unity ML-Agents](https://github.com/Unity-Technologies/ml-agents/blob/master/docs/Installation.md) and [NumPy](http://www.numpy.org/)."
   ]
  },
  {
   "cell_type": "code",
   "execution_count": 1,
   "metadata": {},
   "outputs": [
    {
     "name": "stdout",
     "output_type": "stream",
     "text": [
      "Requirement already satisfied: fastprogress in /home/jmu/anaconda3/envs/drlnd/lib/python3.6/site-packages (1.0.0)\n",
      "Requirement already satisfied: numpy in /home/jmu/.local/lib/python3.6/site-packages (from fastprogress) (1.19.5)\n",
      "Requirement already satisfied: tqdm in /home/jmu/anaconda3/envs/drlnd/lib/python3.6/site-packages (4.62.3)\n"
     ]
    }
   ],
   "source": [
    "!pip install fastprogress\n",
    "!pip install tqdm"
   ]
  },
  {
   "cell_type": "code",
   "execution_count": 2,
   "metadata": {},
   "outputs": [],
   "source": [
    "from unityagents import UnityEnvironment\n",
    "import numpy as np\n",
    "from collections import deque\n",
    "import matplotlib.pyplot as plt\n",
    "%matplotlib inline\n",
    "import torch\n",
    "from ddpg_agent import Agent\n",
    "from tqdm import tqdm\n",
    "from fastprogress import progress_bar, master_bar\n",
    "\n"
   ]
  },
  {
   "cell_type": "markdown",
   "metadata": {},
   "source": [
    "### 2. Start the Environment"
   ]
  },
  {
   "cell_type": "code",
   "execution_count": 3,
   "metadata": {},
   "outputs": [
    {
     "name": "stderr",
     "output_type": "stream",
     "text": [
      "INFO:unityagents:\n",
      "'Academy' started successfully!\n",
      "Unity Academy name: Academy\n",
      "        Number of Brains: 1\n",
      "        Number of External Brains : 1\n",
      "        Lesson number : 0\n",
      "        Reset Parameters :\n",
      "\t\t\n",
      "Unity brain name: TennisBrain\n",
      "        Number of Visual Observations (per agent): 0\n",
      "        Vector Observation space type: continuous\n",
      "        Vector Observation space size (per agent): 8\n",
      "        Number of stacked Vector Observation: 3\n",
      "        Vector Action space type: continuous\n",
      "        Vector Action space size (per agent): 2\n",
      "        Vector Action descriptions: , \n"
     ]
    }
   ],
   "source": [
    "env = UnityEnvironment(file_name=\"Tennis_Linux/Tennis.x86_64\")"
   ]
  },
  {
   "cell_type": "code",
   "execution_count": 4,
   "metadata": {},
   "outputs": [],
   "source": [
    "# get the default brain\n",
    "brain_name = env.brain_names[0]\n",
    "brain = env.brains[brain_name]"
   ]
  },
  {
   "cell_type": "markdown",
   "metadata": {},
   "source": [
    "### 3. Examine the State and Action Spaces\n",
    "\n",
    "In this environment, two agents control rackets to bounce a ball over a net. If an agent hits the ball over the net, it receives a reward of +0.1.  If an agent lets a ball hit the ground or hits the ball out of bounds, it receives a reward of -0.01.  Thus, the goal of each agent is to keep the ball in play.\n",
    "\n",
    "The observation space consists of 8 variables corresponding to the position and velocity of the ball and racket. Two continuous actions are available, corresponding to movement toward (or away from) the net, and jumping. \n",
    "\n",
    "Run the code cell below to print some information about the environment."
   ]
  },
  {
   "cell_type": "code",
   "execution_count": 5,
   "metadata": {},
   "outputs": [
    {
     "name": "stdout",
     "output_type": "stream",
     "text": [
      "Number of agents: 2\n",
      "Size of each action: 2\n",
      "There are 2 agents. Each observes a state with length: 24\n",
      "The state for the first agent looks like: [ 0.          0.          0.          0.          0.          0.\n",
      "  0.          0.          0.          0.          0.          0.\n",
      "  0.          0.          0.          0.         -6.65278625 -1.5\n",
      " -0.          0.          6.83172083  6.         -0.          0.        ]\n"
     ]
    }
   ],
   "source": [
    "# reset the environment\n",
    "env_info = env.reset(train_mode=True)[brain_name]\n",
    "\n",
    "# number of agents \n",
    "num_agents = len(env_info.agents)\n",
    "print('Number of agents:', num_agents)\n",
    "\n",
    "# size of each action\n",
    "action_size = brain.vector_action_space_size\n",
    "print('Size of each action:', action_size)\n",
    "\n",
    "# examine the state space \n",
    "states = env_info.vector_observations\n",
    "state_size = states.shape[1]\n",
    "print('There are {} agents. Each observes a state with length: {}'.format(states.shape[0], state_size))\n",
    "print('The state for the first agent looks like:', states[0])"
   ]
  },
  {
   "cell_type": "markdown",
   "metadata": {},
   "source": [
    "### 4. Instantiate the agent"
   ]
  },
  {
   "cell_type": "code",
   "execution_count": 6,
   "metadata": {},
   "outputs": [],
   "source": [
    "# initialize agents\n",
    "agent1 = Agent(state_size, action_size)\n",
    "agent2 = Agent(state_size, action_size)"
   ]
  },
  {
   "cell_type": "code",
   "execution_count": 7,
   "metadata": {},
   "outputs": [],
   "source": [
    "def ddpg_tennis(n_episodes=1500, max_t=1000, train_mode=True):\n",
    "    scores_deque = deque(maxlen=100)\n",
    "    scores_all = []    \n",
    "    mean_avg_scores = []\n",
    "    achieved = False\n",
    "    \n",
    "    mb = master_bar(range(1, n_episodes+1))\n",
    "    for i_episode in mb:\n",
    "        env_info = env.reset(train_mode)[brain_name]\n",
    "        states = env_info.vector_observations\n",
    "        agent1.reset()\n",
    "        agent2.reset()\n",
    "        scores = np.zeros(num_agents)\n",
    "        for t in progress_bar(range(max_t), parent=mb):\n",
    "            action1 = agent1.act(states[0], add_noise=True)    \n",
    "            action2 = agent2.act(states[1], add_noise=True)    \n",
    "            env_info = env.step([action1, action2])[brain_name]\n",
    "            next_states = env_info.vector_observations         \n",
    "            rewards = env_info.rewards                         \n",
    "            dones = env_info.local_done                        \n",
    "            agent1.step(states[0], action1, rewards[0], next_states[0], dones[0])\n",
    "            agent2.step(states[1], action2, rewards[1], next_states[1], dones[1])\n",
    "            states = next_states\n",
    "            scores += rewards\n",
    "            if np.any(dones):\n",
    "                break \n",
    "        scores_deque.append(np.max(scores))\n",
    "        scores_all.append(np.max(scores))\n",
    "        mean_avg_scores.append(np.mean(scores_deque))\n",
    "        if i_episode % 100 == 0:\n",
    "            print('\\rEpisode {}\\tScore {:.2f}\\tAverage Score {:.2f}'.format(i_episode, np.max(scores), np.mean(scores_deque)))\n",
    "        \n",
    "        if mean_avg_scores[-1]>=0.5 and achieved is False:\n",
    "            print('Score of', mean_avg_scores[-1], 'achieved in', i_episode, 'episodes')\n",
    "            torch.save(agent1.actor_local.state_dict(), 'checkpoint_actor1.pth')\n",
    "            torch.save(agent1.critic_local.state_dict(), 'checkpoint_critic1.pth')\n",
    "            torch.save(agent2.actor_local.state_dict(), 'checkpoint_actor2.pth')\n",
    "            torch.save(agent2.critic_local.state_dict(), 'checkpoint_critic2.pth')\n",
    "            achieved = True\n",
    "        \n",
    "    return scores_all, mean_avg_scores"
   ]
  },
  {
   "cell_type": "markdown",
   "metadata": {},
   "source": [
    "### 5. Train DDPG agent"
   ]
  },
  {
   "cell_type": "code",
   "execution_count": 8,
   "metadata": {},
   "outputs": [
    {
     "data": {
      "text/html": [],
      "text/plain": [
       "<IPython.core.display.HTML object>"
      ]
     },
     "metadata": {},
     "output_type": "display_data"
    },
    {
     "name": "stderr",
     "output_type": "stream",
     "text": [
      "/home/jmu/anaconda3/envs/drlnd/lib/python3.6/site-packages/torch/nn/functional.py:1340: UserWarning: nn.functional.tanh is deprecated. Use torch.tanh instead.\n",
      "  warnings.warn(\"nn.functional.tanh is deprecated. Use torch.tanh instead.\")\n"
     ]
    },
    {
     "name": "stdout",
     "output_type": "stream",
     "text": [
      "Episode 100\tScore 0.00\tAverage Score 0.00\n",
      "Episode 200\tScore 0.00\tAverage Score 0.00\n",
      "Episode 300\tScore 0.00\tAverage Score 0.00\n",
      "Episode 400\tScore 0.00\tAverage Score 0.00\n",
      "Episode 500\tScore 0.09\tAverage Score 0.02\n",
      "Episode 600\tScore 0.00\tAverage Score 0.01\n",
      "Episode 700\tScore 0.00\tAverage Score 0.03\n",
      "Episode 800\tScore 0.10\tAverage Score 0.04\n",
      "Episode 900\tScore 0.00\tAverage Score 0.05\n",
      "Episode 1000\tScore 0.00\tAverage Score 0.06\n",
      "Episode 1100\tScore 0.00\tAverage Score 0.06\n",
      "Episode 1200\tScore 0.19\tAverage Score 0.10\n",
      "Episode 1300\tScore 0.40\tAverage Score 0.23\n",
      "Score of 0.5184000077843666 achieved in 1362 episodes\n",
      "Episode 1400\tScore 0.30\tAverage Score 0.91\n",
      "Episode 1500\tScore 0.00\tAverage Score 1.48\n"
     ]
    }
   ],
   "source": [
    "scores, avg_scores = ddpg_tennis()"
   ]
  },
  {
   "cell_type": "markdown",
   "metadata": {},
   "source": [
    "### 6. Plot reward against episodes"
   ]
  },
  {
   "cell_type": "code",
   "execution_count": 16,
   "metadata": {},
   "outputs": [
    {
     "data": {
      "image/png": "[encoded data removed]",
      "text/plain": [
       "<Figure size 432x288 with 1 Axes>"
      ]
     },
     "metadata": {
      "needs_background": "light"
     },
     "output_type": "display_data"
    }
   ],
   "source": [
    "fig = plt.figure()\n",
    "plt.subplot(1, 1, 1)\n",
    "plt.plot(np.arange(1, len(scores)+1), scores, label='score')\n",
    "plt.plot(np.arange(1, len(scores)+1), avg_scores, c='r', label='avg score')\n",
    "plt.ylabel('Score')\n",
    "plt.xlabel('Episode #')\n",
    "plt.legend(loc='upper left')\n",
    "plt.savefig('score_per_episode_plot.png')\n",
    "plt.show()\n"
   ]
  },
  {
   "cell_type": "markdown",
   "metadata": {},
   "source": [
    "### 7. close the environment."
   ]
  },
  {
   "cell_type": "code",
   "execution_count": 17,
   "metadata": {},
   "outputs": [],
   "source": [
    "env.close()"
   ]
  },
  {
   "cell_type": "code",
   "execution_count": null,
   "metadata": {},
   "outputs": [],
   "source": []
  }
 ],
 "metadata": {
  "kernelspec": {
   "display_name": "Python 3",
   "language": "python",
   "name": "python3"
  },
  "language_info": {
   "codemirror_mode": {
    "name": "ipython",
    "version": 3
   },
   "file_extension": ".py",
   "mimetype": "text/x-python",
   "name": "python",
   "nbconvert_exporter": "python",
   "pygments_lexer": "ipython3",
   "version": "3.6.13"
  }
 },
 "nbformat": 4,
 "nbformat_minor": 2
}
